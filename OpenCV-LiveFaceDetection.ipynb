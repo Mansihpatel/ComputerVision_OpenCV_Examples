{
 "cells": [
  {
   "cell_type": "code",
   "execution_count": 10,
   "metadata": {
    "ExecuteTime": {
     "end_time": "2021-06-09T10:33:27.556638Z",
     "start_time": "2021-06-09T10:33:27.354377Z"
    }
   },
   "outputs": [],
   "source": [
    "!git clone https://github.com/misbah4064/opencvTutorial.git\n",
    "%cd opencvTutorial/\n",
    "from IPython.display import clear_output\n",
    "clear_output()"
   ]
  },
  {
   "cell_type": "code",
   "execution_count": 22,
   "metadata": {
    "ExecuteTime": {
     "end_time": "2021-06-09T12:09:12.860451Z",
     "start_time": "2021-06-09T12:08:39.910803Z"
    }
   },
   "outputs": [],
   "source": [
    "import cv2\n",
    "face_cascade = cv2.CascadeClassifier(\"files/haarcascade_frontalface_default.xml\")\n",
    "\n",
    "# start webcam\n",
    "cap = cv2.VideoCapture(0)\n",
    "\n",
    "while True:\n",
    "  response,color_image =cap.read()\n",
    "\n",
    "  # convert to gray\n",
    "  gray = cv2.cvtColor(color_image,cv2.COLOR_BGR2GRAY)\n",
    "\n",
    "  #detect the faces\n",
    "  faces = face_cascade.detectMultiScale(gray,1.4,7)\n",
    "\n",
    "  # display rectangle\n",
    "  for (x,y,w,h) in faces:\n",
    "      cv2.rectangle(color_image,(x,y),(x+w,y+h),(0,0,255),3)\n",
    "\n",
    "  # display image\n",
    "  cv2.imshow('img',color_image)\n",
    "\n",
    "  if cv2.waitKey(2) & 0XFF == ord('q'):\n",
    "    break\n",
    "\n",
    "# release the video capture image \n",
    "cap.release()\n",
    "cv2.destroyAllWindows()"
   ]
  },
  {
   "cell_type": "code",
   "execution_count": null,
   "metadata": {},
   "outputs": [],
   "source": []
  }
 ],
 "metadata": {
  "kernelspec": {
   "display_name": "Python 3",
   "language": "python",
   "name": "python3"
  },
  "language_info": {
   "codemirror_mode": {
    "name": "ipython",
    "version": 3
   },
   "file_extension": ".py",
   "mimetype": "text/x-python",
   "name": "python",
   "nbconvert_exporter": "python",
   "pygments_lexer": "ipython3",
   "version": "3.7.6"
  }
 },
 "nbformat": 4,
 "nbformat_minor": 4
}
